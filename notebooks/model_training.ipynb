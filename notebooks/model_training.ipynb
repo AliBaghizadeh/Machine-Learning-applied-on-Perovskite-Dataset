{
 "cells": [
  {
   "cell_type": "markdown",
   "id": "c45c2844",
   "metadata": {},
   "source": [
    "# Model Training and Evaluation for Perovskite Materials"
   ]
  },
  {
   "cell_type": "code",
   "execution_count": null,
   "id": "c98b1097",
   "metadata": {},
   "outputs": [],
   "source": [
    "\n",
    "# Step 1: Import Libraries\n",
    "import pandas as pd\n",
    "from sklearn.model_selection import train_test_split, GridSearchCV\n",
    "from sklearn.linear_model import LogisticRegression\n",
    "from sklearn.ensemble import RandomForestClassifier\n",
    "from sklearn.metrics import classification_report, confusion_matrix\n",
    "import matplotlib.pyplot as plt\n",
    "import seaborn as sns\n",
    "    "
   ]
  },
  {
   "cell_type": "code",
   "execution_count": null,
   "id": "79ba5752",
   "metadata": {},
   "outputs": [],
   "source": [
    "\n",
    "# Step 2: Load and Preprocess Data\n",
    "file_path = \"../data/HighthroughputDFTcalculations.csv\"\n",
    "df = pd.read_csv(file_path)\n",
    "\n",
    "# (Insert preprocessing steps, e.g., encoding, cleaning, dropping missing values)\n",
    "\n",
    "# Split features and labels\n",
    "X = df.drop(\"LowestDist\", axis=1)\n",
    "y = df[\"LowestDist\"]\n",
    "X_train, X_test, y_train, y_test = train_test_split(X, y, test_size=0.3, random_state=42)\n",
    "    "
   ]
  },
  {
   "cell_type": "code",
   "execution_count": null,
   "id": "1cad00ef",
   "metadata": {},
   "outputs": [],
   "source": [
    "\n",
    "# Step 3: Train Logistic Regression Model\n",
    "lr = LogisticRegression(max_iter=1000)\n",
    "lr.fit(X_train, y_train)\n",
    "y_pred_lr = lr.predict(X_test)\n",
    "\n",
    "# Logistic Regression Performance\n",
    "print(\"Logistic Regression Classification Report:\")\n",
    "print(classification_report(y_test, y_pred_lr))\n",
    "    "
   ]
  },
  {
   "cell_type": "code",
   "execution_count": null,
   "id": "cf9c36d4",
   "metadata": {},
   "outputs": [],
   "source": [
    "\n",
    "# Step 4: Visualize Logistic Regression Results\n",
    "cm = confusion_matrix(y_test, y_pred_lr)\n",
    "sns.heatmap(cm, annot=True, fmt='d', cmap='Blues')\n",
    "plt.title(\"Confusion Matrix - Logistic Regression\")\n",
    "plt.show()\n",
    "    "
   ]
  },
  {
   "cell_type": "code",
   "execution_count": null,
   "id": "6b5eb0f7",
   "metadata": {},
   "outputs": [],
   "source": [
    "\n",
    "# Step 5: Train Random Forest Model\n",
    "rf = RandomForestClassifier()\n",
    "rf.fit(X_train, y_train)\n",
    "y_pred_rf = rf.predict(X_test)\n",
    "\n",
    "print(\"Random Forest Classification Report:\")\n",
    "print(classification_report(y_test, y_pred_rf))\n",
    "    "
   ]
  }
 ],
 "metadata": {},
 "nbformat": 4,
 "nbformat_minor": 5
}
