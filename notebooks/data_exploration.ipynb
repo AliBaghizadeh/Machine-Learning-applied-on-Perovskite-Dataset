{
 "cells": [
  {
   "cell_type": "markdown",
   "id": "c26e73dd",
   "metadata": {},
   "source": [
    "# Data Exploration for Perovskite Materials"
   ]
  },
  {
   "cell_type": "code",
   "execution_count": null,
   "id": "3aa7adc8",
   "metadata": {},
   "outputs": [],
   "source": [
    "\n",
    "# Step 1: Load Necessary Libraries\n",
    "import pandas as pd\n",
    "import numpy as np\n",
    "import matplotlib.pyplot as plt\n",
    "import seaborn as sns\n",
    "    "
   ]
  },
  {
   "cell_type": "code",
   "execution_count": null,
   "id": "eeda8b3e",
   "metadata": {},
   "outputs": [],
   "source": [
    "\n",
    "# Step 2: Load Dataset\n",
    "file_path = \"../data/HighthroughputDFTcalculations.csv\"\n",
    "df = pd.read_csv(file_path)\n",
    "df.head()\n",
    "    "
   ]
  },
  {
   "cell_type": "code",
   "execution_count": null,
   "id": "bb62d4e2",
   "metadata": {},
   "outputs": [],
   "source": [
    "\n",
    "# Step 3: Dataset Overview\n",
    "df.info()\n",
    "df.describe()\n",
    "    "
   ]
  },
  {
   "cell_type": "code",
   "execution_count": null,
   "id": "53f52413",
   "metadata": {},
   "outputs": [],
   "source": [
    "\n",
    "# Step 4: Check for Missing Values\n",
    "missing_values = df.isnull().sum()\n",
    "print(\"Missing Values:\\n\", missing_values)\n",
    "    "
   ]
  },
  {
   "cell_type": "code",
   "execution_count": null,
   "id": "aa3b96e3",
   "metadata": {},
   "outputs": [],
   "source": [
    "\n",
    "# Step 5: Correlation Analysis\n",
    "plt.figure(figsize=(12, 10))\n",
    "sns.heatmap(df.corr(), annot=True, cmap=\"coolwarm\")\n",
    "plt.title(\"Correlation Heatmap\")\n",
    "plt.show()\n",
    "    "
   ]
  },
  {
   "cell_type": "code",
   "execution_count": null,
   "id": "f8ec80e4",
   "metadata": {},
   "outputs": [],
   "source": [
    "\n",
    "# Step 6: Visualizing Key Relationships\n",
    "sns.pairplot(df, diag_kind='kde')\n",
    "plt.suptitle(\"Pairplot of Key Features\")\n",
    "plt.show()\n",
    "    "
   ]
  }
 ],
 "metadata": {},
 "nbformat": 4,
 "nbformat_minor": 5
}
